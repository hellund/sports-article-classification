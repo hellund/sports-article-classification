{
 "cells": [
  {
   "cell_type": "markdown",
   "id": "8d5a902a-91d2-4947-aa2a-1f0a0f38d660",
   "metadata": {},
   "source": [
    "# Clustering"
   ]
  },
  {
   "cell_type": "markdown",
   "id": "50c73aec-9319-4208-8a78-123cc7986614",
   "metadata": {},
   "source": [
    "## Imports"
   ]
  },
  {
   "cell_type": "code",
   "execution_count": 1,
   "id": "48f15863-da60-4125-92b8-cb21d962d95c",
   "metadata": {},
   "outputs": [],
   "source": [
    "from src.data.nordskog_data import get_data\n",
    "from src.data.preprocessing import DataPreprocessor\n",
    "from sklearn.feature_extraction.text import TfidfVectorizer\n",
    "from sklearn.cluster import KMeans"
   ]
  },
  {
   "cell_type": "markdown",
   "id": "c61992b5-a7c4-47a4-a149-3469a336a46e",
   "metadata": {},
   "source": [
    "## Clustering"
   ]
  },
  {
   "cell_type": "code",
   "execution_count": 2,
   "id": "918b3715-776b-47b5-97cd-87964ec87a01",
   "metadata": {},
   "outputs": [],
   "source": [
    "def train_cluster(text_df, n_clusters):\n",
    "    texts = text_df['text'].values\n",
    "    vectorizer = TfidfVectorizer()\n",
    "    tfidf = vectorizer.fit_transform(texts)\n",
    "    model = KMeans(n_clusters=n_clusters, init='k-means++',\n",
    "                   random_state=99)\n",
    "\n",
    "    print(tfidf.shape)\n",
    "    clf = model.fit(tfidf)\n",
    "    text_df['cluster label'] = clf.labels_\n",
    "    print(text_df.groupby(['cluster label'])['text'].count())\n",
    "\n",
    "    return text_df"
   ]
  },
  {
   "cell_type": "code",
   "execution_count": 3,
   "id": "43ae9eb1-cbf7-454a-8459-9253a583b049",
   "metadata": {},
   "outputs": [
    {
     "name": "stdout",
     "output_type": "stream",
     "text": [
      "(5412, 11077)\n"
     ]
    },
    {
     "name": "stderr",
     "output_type": "stream",
     "text": [
      "C:\\Users\\Eirik\\anaconda3\\lib\\site-packages\\sklearn\\cluster\\_kmeans.py:870: FutureWarning: The default value of `n_init` will change from 10 to 'auto' in 1.4. Set the value of `n_init` explicitly to suppress the warning\n",
      "  warnings.warn(\n"
     ]
    },
    {
     "name": "stdout",
     "output_type": "stream",
     "text": [
      "cluster label\n",
      "0      395\n",
      "1      199\n",
      "2     1022\n",
      "3      350\n",
      "4       90\n",
      "5      109\n",
      "6      135\n",
      "7      451\n",
      "8      439\n",
      "9      121\n",
      "10     250\n",
      "11     677\n",
      "12      86\n",
      "13     230\n",
      "14      39\n",
      "15      93\n",
      "16     173\n",
      "17     139\n",
      "18     388\n",
      "19      26\n",
      "Name: text, dtype: int64\n"
     ]
    },
    {
     "data": {
      "text/html": [
       "<div>\n",
       "<style scoped>\n",
       "    .dataframe tbody tr th:only-of-type {\n",
       "        vertical-align: middle;\n",
       "    }\n",
       "\n",
       "    .dataframe tbody tr th {\n",
       "        vertical-align: top;\n",
       "    }\n",
       "\n",
       "    .dataframe thead th {\n",
       "        text-align: right;\n",
       "    }\n",
       "</style>\n",
       "<table border=\"1\" class=\"dataframe\">\n",
       "  <thead>\n",
       "    <tr style=\"text-align: right;\">\n",
       "      <th></th>\n",
       "      <th>text</th>\n",
       "      <th>label</th>\n",
       "      <th>cluster label</th>\n",
       "    </tr>\n",
       "  </thead>\n",
       "  <tbody>\n",
       "    <tr>\n",
       "      <th>0</th>\n",
       "      <td>Vålerenga - Rosenborg 2-3</td>\n",
       "      <td>Ignore</td>\n",
       "      <td>2</td>\n",
       "    </tr>\n",
       "    <tr>\n",
       "      <th>1</th>\n",
       "      <td>Sam Johnson ga vertene ledelsen, men Jonathan ...</td>\n",
       "      <td>Goal/Assist</td>\n",
       "      <td>7</td>\n",
       "    </tr>\n",
       "    <tr>\n",
       "      <th>2</th>\n",
       "      <td>På et hjørnespark langt på overtid kom avgjøre...</td>\n",
       "      <td>Goal/Assist</td>\n",
       "      <td>7</td>\n",
       "    </tr>\n",
       "    <tr>\n",
       "      <th>3</th>\n",
       "      <td>Ti minutter før pause scoret Sam Johnson sitt ...</td>\n",
       "      <td>Goal/Assist</td>\n",
       "      <td>0</td>\n",
       "    </tr>\n",
       "    <tr>\n",
       "      <th>4</th>\n",
       "      <td>Vålerenga holdt 1-0-ledelsen bare frem til sis...</td>\n",
       "      <td>Goal/Assist</td>\n",
       "      <td>0</td>\n",
       "    </tr>\n",
       "    <tr>\n",
       "      <th>...</th>\n",
       "      <td>...</td>\n",
       "      <td>...</td>\n",
       "      <td>...</td>\n",
       "    </tr>\n",
       "    <tr>\n",
       "      <th>5521</th>\n",
       "      <td>– Mateo har sagt at han ønsker å dra. Jeg vil ...</td>\n",
       "      <td>quote</td>\n",
       "      <td>3</td>\n",
       "    </tr>\n",
       "    <tr>\n",
       "      <th>5522</th>\n",
       "      <td>– Her gjør han en miss. Han står midt i mål, o...</td>\n",
       "      <td>quote</td>\n",
       "      <td>3</td>\n",
       "    </tr>\n",
       "    <tr>\n",
       "      <th>5523</th>\n",
       "      <td>– Vi kan ta med masse positivt fra kampen, for...</td>\n",
       "      <td>quote</td>\n",
       "      <td>10</td>\n",
       "    </tr>\n",
       "    <tr>\n",
       "      <th>5524</th>\n",
       "      <td>Den tyske midtbanespilleren kom til Bayern Mün...</td>\n",
       "      <td>Player details</td>\n",
       "      <td>11</td>\n",
       "    </tr>\n",
       "    <tr>\n",
       "      <th>5525</th>\n",
       "      <td>Bendtner har vært i norsk fotball siden mars 2...</td>\n",
       "      <td>Player details</td>\n",
       "      <td>11</td>\n",
       "    </tr>\n",
       "  </tbody>\n",
       "</table>\n",
       "<p>5412 rows × 3 columns</p>\n",
       "</div>"
      ],
      "text/plain": [
       "                                                   text           label  \\\n",
       "0                             Vålerenga - Rosenborg 2-3          Ignore   \n",
       "1     Sam Johnson ga vertene ledelsen, men Jonathan ...     Goal/Assist   \n",
       "2     På et hjørnespark langt på overtid kom avgjøre...     Goal/Assist   \n",
       "3     Ti minutter før pause scoret Sam Johnson sitt ...     Goal/Assist   \n",
       "4     Vålerenga holdt 1-0-ledelsen bare frem til sis...     Goal/Assist   \n",
       "...                                                 ...             ...   \n",
       "5521  – Mateo har sagt at han ønsker å dra. Jeg vil ...           quote   \n",
       "5522  – Her gjør han en miss. Han står midt i mål, o...           quote   \n",
       "5523  – Vi kan ta med masse positivt fra kampen, for...           quote   \n",
       "5524  Den tyske midtbanespilleren kom til Bayern Mün...  Player details   \n",
       "5525  Bendtner har vært i norsk fotball siden mars 2...  Player details   \n",
       "\n",
       "      cluster label  \n",
       "0                 2  \n",
       "1                 7  \n",
       "2                 7  \n",
       "3                 0  \n",
       "4                 0  \n",
       "...             ...  \n",
       "5521              3  \n",
       "5522              3  \n",
       "5523             10  \n",
       "5524             11  \n",
       "5525             11  \n",
       "\n",
       "[5412 rows x 3 columns]"
      ]
     },
     "execution_count": 3,
     "metadata": {},
     "output_type": "execute_result"
    }
   ],
   "source": [
    "train, test = get_data()\n",
    "train.dropna(inplace=True)\n",
    "preprocessor = DataPreprocessor(train)\n",
    "preprocessor.remove_paragraphs_over_65_words()\n",
    "preprocessor.remove_paragraphs_over_65_words()\n",
    "train = preprocessor.data.copy()\n",
    "cluster_df = train_cluster(train, 20)\n",
    "cluster_df"
   ]
  },
  {
   "cell_type": "markdown",
   "id": "9f51ffbc-bcd7-408d-a2c3-d4c0171121a9",
   "metadata": {},
   "source": [
    "## Exploring the clusters"
   ]
  },
  {
   "cell_type": "code",
   "execution_count": 4,
   "id": "9d8aa1f8-57df-40f5-85c4-847ac6d24a19",
   "metadata": {},
   "outputs": [],
   "source": [
    "def cluster_generator():\n",
    "    for cluster in range(0,20):\n",
    "        yield print(f'Cluster {cluster} - {cluster_df[cluster_df[\"cluster label\"] == cluster].shape[0]} samples \\n'+'_'*100+'\\n')\n",
    "        for text in cluster_df[cluster_df['cluster label'] == cluster]['text'][:10]:\n",
    "            yield print(f'{text} \\n' )\n",
    "cluster_gen = cluster_generator()\n",
    "\n",
    "def next_in_cluster_generator():\n",
    "    for _ in range(0,11):\n",
    "        next(cluster_gen)"
   ]
  },
  {
   "cell_type": "markdown",
   "id": "c9ea5669-1cca-4fc6-ac19-3f4260d6a721",
   "metadata": {},
   "source": [
    "### Cluster 0:\n",
    "Key words: Goal, Goal, Own-Goal, Chance, Goal, Chance, Goal, Ball posession, Corner, Goal"
   ]
  },
  {
   "cell_type": "code",
   "execution_count": 5,
   "id": "4a7bfc4e-160a-4f3a-a724-a172e7139ac4",
   "metadata": {},
   "outputs": [
    {
     "name": "stdout",
     "output_type": "stream",
     "text": [
      "Cluster 0 - 395 samples \n",
      "____________________________________________________________________________________________________\n",
      "\n",
      "Ti minutter før pause scoret Sam Johnson sitt første mål siden midten av mai da han dro seg fint inn fra venstre og curlet ballen i det lengste hjørnet via Hedenstad. \n",
      "\n",
      "Vålerenga holdt 1-0-ledelsen bare frem til siste spilleminutt av omgangen. Jonathan Levis halvvolley på utsiden av 16-meteren gikk via Bård Finne og overlistet keeper Adam Larsen Kwarasey på hjemmelaget. \n",
      "\n",
      "Andreomgang var bare drøyt fire minutter gammel da Rosenborg hadde snudd kampen. Hedenstads hjørnespark ble slått hardt på første stolpe. Enar Jääger var uheldig og headet ballen i eget mål. \n",
      "\n",
      "Bård Finne skapte kampens første store mulighet da han snappet ballen fra Vegard Eggen Hedenstad, dro seg inn i banen og fyrte av, men ballen gikk i stolpen. \n",
      "\n",
      "I det 48. minutt klarte endelig Sarpsborg å bryte seg gjennom Odd-forsvaret. Heinz utnyttet Vegard Bergans balltap på egen banehalvdel og spilte videre til Thomassen. S08-kapteinen dro seg innover i boksen og hamret inn 1-1 i venstre\n",
      "                        hjørne. \n",
      "\n",
      "Kvarteret før slutt burde Birk Risa punktert oppgjøret for Odd. Etter et Ruud-frispark løp Risa seg fri og fikk stå helt alene, men fra fem meter skjøt han ballen utenfor mål. \n",
      "\n",
      "Rossbachs redning av Heinz-forsøket var imponerende. Han måtte rygge bakover mot eget mål før han kastet seg bakover og fikk ballen unna. \n",
      "\n",
      "I det 65. spilleminutt tok Juventus godt vare på en kontringsmulighet. Emre Can avanserte fremover og slapp ballen til Ronaldo, som fra litt skrått hold satte ballen i det lengste hjørnet til sitt andre mål for ettermiddagen. \n",
      "\n",
      "Så fikk Ranheim endelig tak i ballen, og endret kampbildet totalt. \n",
      "\n",
      "En utoverskrudd Ranheim-corner landet på lengste, der Eirik Valla Dønnem fikk et kne på ballen. Ballen spratt inn mot målet, der Helmersen, som fikk sjansen i Michael Karlsens skadefravær, ventet. \n",
      "\n"
     ]
    }
   ],
   "source": [
    "next_in_cluster_generator()"
   ]
  },
  {
   "cell_type": "markdown",
   "id": "3cc908e5-3120-4021-9b13-20d6715fb862",
   "metadata": {},
   "source": [
    "### Cluster 1\n",
    "keywords: Quote/Feelings, Quote/Pleased, Quote/No regrets, Quote/Expectations, Quote/Booking, Quote/Missed chances, Quote/Goal, Quote/Chance, Quote/Belief, Quote/Pitch"
   ]
  },
  {
   "cell_type": "code",
   "execution_count": 6,
   "id": "a3799411-6878-4789-b439-413af266e9fb",
   "metadata": {},
   "outputs": [
    {
     "name": "stdout",
     "output_type": "stream",
     "text": [
      "Cluster 1 - 199 samples \n",
      "____________________________________________________________________________________________________\n",
      "\n",
      "– Jeg var litt engstelig, med alt som skjedde etter at jeg forlot Real Madrid for å komme hit, men det er slik livet er, sier Ronaldo etter kampen ifølge AS. \n",
      "\n",
      "– Men jeg er fornøyd. Jeg vet at jeg jobbet godt, og at målene ville komme. Jeg setter pris på lagkameratene mine, som har hjulpet meg mye med å tilpasse meg den italienske serien. \n",
      "\n",
      "– Jeg har ikke angret ett sekund, sier Fellah til VG. \n",
      "\n",
      "– Jeg visste at jeg kom til en klubb der det forventes titler. Og de fikk en spiller som forventer å vinne. Vi passer sammen, sier Jebali. \n",
      "\n",
      "– Jeg tror først det er Kind Mikalsen som gjør forseelsen, så jeg gir han gult kort først, så det røde, men får raskt på øret at jeg bommer på både farge og spiller. Siden det er en åpenbar scoringsmulighet er det klink rødt, sier Hobber Nilsen. \n",
      "\n",
      "– Hvis det var noen som skulle score i denne kampen her, så var det meg. Jeg hadde mange sjanser, og burde scoret to til, sier Nguen til VG. \n",
      "\n",
      "– Jeg skjønte det med en gang jeg traff ballen med vrista at den kom til å gå inn. Det var et veldig viktig poeng, sier Nguen. \n",
      "\n",
      "– Jeg så en åpning, og prøvde meg på lengste. Men så fikk én av dem en fot på ballen, sier Nguen, om den første sjansen. \n",
      "\n",
      "– Man leser hele tida at ingen har troa, men jeg spiller her og har hundre prosent troen. Jeg spiller her og ser hvordan spillerne og trenerne jobber hver eneste dag. Jeg har troa helt fram til regnestykket sier at det er umulig å berge plassen, sier Fellah. \n",
      "\n",
      "– Jeg tror vel ikke akkurat at banen ble bedre av det, kommenterte Knutsen. \n",
      "\n"
     ]
    }
   ],
   "source": [
    "next_in_cluster_generator()"
   ]
  },
  {
   "cell_type": "markdown",
   "id": "50e86658-1cf5-46a1-b771-b1243ee54f1f",
   "metadata": {},
   "source": [
    "### Cluster 2\n",
    "Keywords: Score, Injury, Chance, Next game, Garbage, Score, Story building, Quote, Game comment, Score"
   ]
  },
  {
   "cell_type": "code",
   "execution_count": 7,
   "id": "11f340d2-71d0-4bd2-ab27-492dc7be63df",
   "metadata": {},
   "outputs": [
    {
     "name": "stdout",
     "output_type": "stream",
     "text": [
      "Cluster 2 - 1022 samples \n",
      "____________________________________________________________________________________________________\n",
      "\n",
      "Vålerenga - Rosenborg 2-3 \n",
      "\n",
      "Enar Jääger og Mohammed Abu måtte for øvrig ut med skade for VIF. \n",
      "\n",
      "I siste spilleminutt hadde Samúel Kari Fridjónsson en god mulighet på frispark, men Rosenborg-målvakt André Hansen fikk slått unna. \n",
      "\n",
      "Sarpsborg innleder torsdag sitt gruppespilleventyr i europaligaen med bortekamp mot tyrkiske Besiktas i Istanbul. Der må sarpingene regne med at det blir skikkelig kok. \n",
      "\n",
      "(©NTB) \n",
      "\n",
      "Ranheim-Strømsgodset 1-1 \n",
      "\n",
      "Strømsgodset lå lenge an til å tape 0-1 borte for Ranheim søndag. \n",
      "\n",
      "\n",
      "                    – Dette ene poenget kan vise seg å bli svært viktig for dem.  \n",
      "\n",
      "Steffen Iversen etterlyser mer støtte til Marcus Pedersen på topp. \n",
      "\n",
      "Start - Lillestrøm 3-0 \n",
      "\n"
     ]
    }
   ],
   "source": [
    "next_in_cluster_generator()"
   ]
  },
  {
   "cell_type": "markdown",
   "id": "db2c924f-30ae-44fb-87fa-fa590cb292c4",
   "metadata": {},
   "source": [
    "### Cluster 3\n",
    "Keywords: Expert comment, Quote/Expert, Quote/Expert, Quote/Expert, Quote/Expert. Quote/Expert, Quote/Player, Quote/Player, Quote/Player, Storytelling"
   ]
  },
  {
   "cell_type": "code",
   "execution_count": 8,
   "id": "7c0b6427-c6ee-40a6-a336-97511748cfb1",
   "metadata": {},
   "outputs": [
    {
     "name": "stdout",
     "output_type": "stream",
     "text": [
      "Cluster 3 - 350 samples \n",
      "____________________________________________________________________________________________________\n",
      "\n",
      "For til tross for et viktig bortepoeng, er sannheten at Strømsgodset nok en gang underpresterte, mener TV 2s fotballekspert Jesper Mathisen. \n",
      "\n",
      "– Det er blytungt for Lillestrøm, som går på et tap, får Amundsen utvist og Erling Knudtzon går ut med skade, sier TV 2s fotballekspert Jesper Mathisen. \n",
      "\n",
      "– Han har vist at han duger, sier TV 2s fotballekspert Jesper Mathisen. \n",
      "\n",
      "– Adeleke Akinyemi har vært lovende i perioder i enkelte kamper, men målene har manglet. Han var nær sist. Han scoret mye i Europaliga-kvaliken for sin forrige klubb, så han har vist at han duger. Alle som er glade i Kristiansand, Sørlandet og Start håper han er målscoreren Start har trengt, sier TV 2s fotballekspert Jesper Mahtisen. \n",
      "\n",
      "– Mannen som ble hentet for mange, mange millioner på overgangsvinduets siste dag har startet nedbetalingen. Det er en strålende prestasjon. Han kjørte karusell med en Lillestrøm-forsvarer. Marius Amundsen forsvant langt ut på den\n",
      "                        glatte banen i Kristiansand, sa TV 2s ekspert Jesper Mathisen i FotballXtra-studio. \n",
      "\n",
      "– Helt korrekt. Så lenge det er holding, så er det ikke et ærlig forsøk, sier TV 2s fotballekspert Jesper Mathisen. \n",
      "\n",
      "Nå håper Fellah at returen til norsk fotball og Sandefjord kan få fart på karrieren igjen. For selv om han har blitt 29 år, er teknikeren klar på at han har mer å komme med som fotballspiller. \n",
      "\n",
      "– Det er helt sikkert 10 ganger opp og ned med fly den siste tiden, sier matchvinneren. \n",
      "\n",
      "– Det er derfor de kjøpte meg, sier tunisieren. Han virker helt rolig av oppstyret, mener han vet hva han kan. Han er ikke overrasket over noen ting. \n",
      "\n",
      "Og med matchvinnere som Issam Jebali i stallen, er det ikke sikkert at den påstanden blir feil til slutt. \n",
      "\n"
     ]
    }
   ],
   "source": [
    "next_in_cluster_generator()"
   ]
  },
  {
   "cell_type": "markdown",
   "id": "b3dbf77a-933b-4da7-aa89-1329b95232ca",
   "metadata": {},
   "source": [
    "### Cluster 4\n",
    "Keywords: Goal, Goal, Summary, Score, Score, Score, Summary, Summary, Goal, Table"
   ]
  },
  {
   "cell_type": "code",
   "execution_count": 9,
   "id": "e82571df-8db0-4e5d-b166-5bcb6587e375",
   "metadata": {},
   "outputs": [
    {
     "name": "stdout",
     "output_type": "stream",
     "text": [
      "Cluster 4 - 90 samples \n",
      "____________________________________________________________________________________________________\n",
      "\n",
      "Cardiff tok ledelsen på Stamford Bridge ved Sol Bamba, da han scoret på Chelsea-keeper Kepa fra kloss hold etter 17 minutters spill.  \n",
      "\n",
      "Hazard-hat trick sendte Chelsea over Liverpool \n",
      "\n",
      "Cardiff yppet seg tidvis i andre omgang, men Chelsea-innbytter Willian skaffet først et straffespark – som Hazard satte sikkert i nettet. Og så fikk Willian kjempetreff fra distanse, og hamret inn 4–1. \n",
      "\n",
      "Chelsea – Cardiff 4-1 (2-1) \n",
      "\n",
      "Mål: 0-1 Sol Bamba (16), 1-1 Eden Hazard (37), 2-1 Hazard (43), 3-1 Hazard (str. 80), 4-1 Willian (83). \n",
      "\n",
      "Newcastle – Arsenal 1-2 (0-0) \n",
      "\n",
      "Eden Hazard ble kampens store spiller med tre målene for Chelsea. Like før slutt la Willian på til 4-0 med fantastisk treff, før Cardiff reduserte. \n",
      "\n",
      "Det startet ikke så lovende for Chelsea, for etter et kvarters spill headet Sean Morrison på tvers innenfor feltet og Sol Bamba kriget inn 1-0-målet for Cardiff. \n",
      "\n",
      "To minutter før pause la Giroud igjen et innlegg fra Pedro Rodríguez til Eden Hazard, som via en Cardiff-forsvarer satte inn 2-1 for Chelsea. \n",
      "\n",
      "Briljant Hazard sendte Chelsea opp på tabelltopp med hat-trick \n",
      "\n"
     ]
    }
   ],
   "source": [
    "next_in_cluster_generator()"
   ]
  },
  {
   "cell_type": "markdown",
   "id": "a7bf95a3-bf70-4518-bcc4-3e35174b5984",
   "metadata": {},
   "source": [
    "### Cluster 5\n",
    "Keywords: Watch the game x 10"
   ]
  },
  {
   "cell_type": "code",
   "execution_count": 10,
   "id": "9ad1a4f2-9f53-4f1e-9d90-8b408a34422c",
   "metadata": {},
   "outputs": [
    {
     "name": "stdout",
     "output_type": "stream",
     "text": [
      "Cluster 5 - 109 samples \n",
      "____________________________________________________________________________________________________\n",
      "\n",
      "Se Besiktas mot Sarpsborg på TV 2 Sport 1 og Sumo torsdag fra kl. 18.15. \n",
      "\n",
      " Se Mesterligaen på TV 2 Sport 1 og TV 2 Sumo på tirsdag og onsdag.\n",
      "\n",
      " \n",
      "\n",
      "Se Wolverhampton - Burnley på TV 2 Sport Premium og TV 2 Sumo søndag klokken 14.30\n",
      " \n",
      "\n",
      "Se Champions League-godbiten mellom Liverpool mot Paris Saint-Germain på TV 2 Sport 1 og Sumo tirsdag kveld fra klokken 20.00. \n",
      "\n",
      " Se Watford-Manchester United på TV 2 Sport Premium og TV 2 Sumo lørdag fra klokken 18.30.  \n",
      "\n",
      "Se Watford - Manchester United på Sumo eller TV 2 Sport Premium på lørdag fra klokken 18.30. \n",
      "\n",
      "Se Liverpool mot PSG på TV 2 Sport 1 og Sumo tirsdag fra klokken 20.00.  \n",
      "\n",
      "Se Watford mot Manchester United på TV 2 Sport Premium og Sumo lørdag kveld fra kl. 18.00. Kampstart kl. 18.30. \n",
      "\n",
      "Liverpool spiller sin generalprøve i toppkampen mot Tottenham lørdag. Kampen sendes på TV 2 Sport Premium og Sumo fra klokken 13.00. \n",
      "\n",
      "Se Watford-Manchester United lørdag 18.30 på TV 2 Sumo og TV 2 Sport Premium!\n",
      " \n",
      "\n"
     ]
    }
   ],
   "source": [
    "next_in_cluster_generator()"
   ]
  },
  {
   "cell_type": "markdown",
   "id": "fbc29d9b-5c71-475a-b19c-f212b8b1334c",
   "metadata": {},
   "source": [
    "### Cluster 6\n",
    "Keywords: Garbage, Score, Storytelling, Statistics, Chance, Score, Score, Summary, Storytelling, Storytelling"
   ]
  },
  {
   "cell_type": "code",
   "execution_count": 11,
   "id": "9de4c085-9ac8-4a32-b88c-e95875289e58",
   "metadata": {},
   "outputs": [
    {
     "name": "stdout",
     "output_type": "stream",
     "text": [
      "Cluster 6 - 135 samples \n",
      "____________________________________________________________________________________________________\n",
      "\n",
      "* 84 for Manchester United. \n",
      "\n",
      "(Watford – Manchester United 1–2) Watford har hatt en glohet start på Premier League med fire seire av fire mulige. Mot Manchester United kom de derimot fort ned på jorden igjen.  \n",
      "\n",
      "For etter seire mot Brighton, Burnley, Crystal Palace og Tottenham hadde Watford vind i seilene før de tok imot Manchester United hjemme på Vicarage Road. \n",
      "\n",
      "Målet var også Lukakus 20. på 39 seriekamper for Manchester United. Kun Ruud van Nistelrooy (26), Robin van Persie (32) og Dwight York (34) brukte færre kamper på å nå 20 seriemål for klubben, ifølge Opta.  \n",
      "\n",
      "Manchester City skapte enormt med sjanser mot Fulham hjemme i Manchester, det kunne blitt langt flere enn tre scoringer for Pep Guardolas mannskap. \n",
      "\n",
      "Manchester C. – Fulham 3-0 (2-0) \n",
      "\n",
      "Watford-Manchester United 1-2 \n",
      "\n",
      "Manchester United vant etter praktomgang: – Noe av det bedre jeg har sett av dem \n",
      "\n",
      "Manchester United stoppet Watfords seiersrekke. Mye takket være en glimrende førsteomgang. \n",
      "\n",
      "Mye takket være en svært god førsteomgang. Da imponerte Manchester United, for anledningen antrukket i pastellrosa drakter. \n",
      "\n"
     ]
    }
   ],
   "source": [
    "next_in_cluster_generator()"
   ]
  },
  {
   "cell_type": "markdown",
   "id": "067b86a2-0258-4214-b7fe-3d534e85a6da",
   "metadata": {},
   "source": [
    "### Cluster 7\n",
    "Keywords: Summary, Match winner, Match winner, Match winner, Match winner, Goal,  Injury, Summary, Goal, Summary"
   ]
  },
  {
   "cell_type": "code",
   "execution_count": 12,
   "id": "2acdd117-d829-4f69-96fd-891de28e3585",
   "metadata": {},
   "outputs": [
    {
     "name": "stdout",
     "output_type": "stream",
     "text": [
      "Cluster 7 - 451 samples \n",
      "____________________________________________________________________________________________________\n",
      "\n",
      "Sam Johnson ga vertene ledelsen, men Jonathan Levi og et selvmål av Enar Jääger snudde kampen, før tidligere Brann-spiller Amin Nouri ordnet 2-2 med mål i sin andre strake (!) hjemmekamp. \n",
      "\n",
      "På et hjørnespark langt på overtid kom avgjørelsen for Rosenborg da et hjørnespark havnet hos nysigneringen Jebali på bakerste stolpe. \n",
      "\n",
      "Nesten fem minutter på overtid kom avgjørelsen da Jebali snek seg inn på bakerste stolpe på hjørnespark og med en velplassert volley styrte inn 3-2. \n",
      "\n",
      "Avgjørelsen falt da Ruud bøyde et frispark over muren og i venstre kryss sju minutter etter pause. \n",
      "\n",
      "Gleden på et regnfylt Sarpsborg stadion varte ikke lenge. Bare fire minutter senere prikket Ruud inn vinnermålet på frispark. Amin Askar hoppet desperat på streken, men kom ikke høyt nok opp. \n",
      "\n",
      "Hjemmelagets Andreas Helmerens sendte vertene i ledelsen etter 28 minutter og trodde nok at han hadde blitt matchvinner. \n",
      "\n",
      "Et skår i gleden for bursdagsbarnet Pellegrini var at Marko Arnautovic, som til tider terroriserte Everton-forsvaret, måtte forlate banen med en skade etter 65 minutter. Da hadde han nettopp scoret West Hams 3-1-mål.​ \n",
      "\n",
      "Mot Lillestrøm kom den endelig da han på nydelig vis satte inn 1-0, og i andreomgang hadde han muligheter til å score enda flere. Kevin Kabran doblet fra straffemerket, før Mathias Bringaker la på 3-0 etter pause. \n",
      "\n",
      "Allerede etter fem minutters spill tok Start ledelsen ved Akinyemi, som rundlurte Marius Amundsen og satte inn 1-0 for kristiansanderne. \n",
      "\n",
      "Start tok en livsviktig 3-0-seier mot Lillestrøm, som måtte spille store deler av kampen med ti spillere etter utvisningen av Marius Amundsen etter 19 minutter. \n",
      "\n"
     ]
    }
   ],
   "source": [
    "next_in_cluster_generator()"
   ]
  },
  {
   "cell_type": "markdown",
   "id": "52d8c528-c652-4b68-b498-a5e7b8ac0c25",
   "metadata": {},
   "source": [
    "### Cluster 8\n",
    "Keywords: Goal, Quote/Coach, Quote/Player, Goal, Quote/Coach, Booking, Booking, Summary, Summary, Statement"
   ]
  },
  {
   "cell_type": "code",
   "execution_count": 13,
   "id": "bad4222d-ed3c-424b-87dd-1424684c4a51",
   "metadata": {},
   "outputs": [
    {
     "name": "stdout",
     "output_type": "stream",
     "text": [
      "Cluster 8 - 439 samples \n",
      "____________________________________________________________________________________________________\n",
      "\n",
      "Det varte imidlertid ikke lenge, for i det 58. spilleminutt havnet en retur fra André Hansen i beina på Amin Nouri, som banket inn 2-2 for Vålerenga. Dermed har høyrebacken scoret i to strake hjemmekamper. \n",
      "\n",
      "– Bittert. Det er mye mer bittert enn å tape drittkamp der du blir rundspilt og ikke fortjener noe, men i dag var det glød i øynene på gutta. Det var tro, hardt arbeid og masse offensivt spill. Det var en herlig ramme med fantastiske\n",
      "                        supportere, sier Vålerenga-trener Ronny Deila til TV 2. \n",
      "\n",
      "– Det var en fantastisk avslutning. Vi var slitne og det var en vanskelig kamp, sier matchvinneren til TV Norge.​ \n",
      "\n",
      "Kevin Kabran var sikker og satte inn 2-0 mot Lillestrøm med ti spillere. \n",
      "\n",
      "– Det var en kamp som var utrolig spesiell. Det skjer utrolig mye det første kvarteret, og det som skjer der blir avgjørende for kamp. En marerittstart for vår del med målene, straffen, rødt kort og Erling Knudtzon skadet på bare ti minutter, sier LSK-trener Jörgen Lennartsson til TV 2. \n",
      "\n",
      "Start fikk straffespark og Amundsen ble utvist, selv om det først var Simen Kind Mikalsen som feilaktig ble vist det røde kortet. \n",
      "\n",
      "Douglas Costa svarte med å sette albuen i ansiktet på Di Francesco, før han skallet til Sassuolo-spilleren. Costa var heldig og fikk først kun gult kort av dommeren. \n",
      "\n",
      "Det var Everton som hadde initiativet i kampen og presset på for scoring, men bakover lakk de som en sil. \n",
      "\n",
      "Juventus' innbytter, som var livlig etter å ha kommet innpå i andreomgang, ble taket hardt av Federico Di Francesco i forkant av Sassuolos redusering til 1-2. \n",
      "\n",
      "Det var en lettet Ronaldo som kunne juble for mål, men 33-åringen kunne og burde scoret enda flere i søndagens kamp. \n",
      "\n"
     ]
    }
   ],
   "source": [
    "next_in_cluster_generator()"
   ]
  },
  {
   "cell_type": "markdown",
   "id": "e2a0f162-dddd-4768-8491-b91b2c6b899c",
   "metadata": {},
   "source": [
    "### Cluster 9\n",
    "Keywords: Table, Table, Table, Result, Table, Save, Table, Table, Summary, Summary"
   ]
  },
  {
   "cell_type": "code",
   "execution_count": 14,
   "id": "ef305c48-5b17-4a47-8eec-917377598e99",
   "metadata": {},
   "outputs": [
    {
     "name": "stdout",
     "output_type": "stream",
     "text": [
      "Cluster 9 - 121 samples \n",
      "____________________________________________________________________________________________________\n",
      "\n",
      "Rosenborg er tilbake på toppen av Eliteserien etter at Brann lånte den i et drøyt døgn etter 3-1 over Haugesund. \n",
      "\n",
      "Rosenborg leder to poeng foran Brann. Vålerenga er nummer seks med fem poeng opp til Haugesund på tredjeplass. \n",
      "\n",
      "Odd er litt i dytten om dagen. Telemarkingene er ubeseiret på sine sju siste seriekamper. Odds forrige tap kom mot Tromsø 1. juli. Dag-Eilev Fagermos menn står med 30 poeng. Det er to poeng mindre enn Sarpsborg. \n",
      "\n",
      "Ranet med seg ett poeng i Ranheim: – De må passe seg \n",
      "\n",
      "Strømsgodset ranet til seg uavgjort på overtid. Det er ett poeng som kan vise seg å bli livsviktig i kampen for å unngå nedrykk. \n",
      "\n",
      "Så dukket Tokmac Nguen opp to minutter på overtid og reddet et svært viktig poeng for drammenserne. \n",
      "\n",
      "Med Start-seier og Stabæk-poeng har Strømsgodset dermed plutselig begge bein godt plantet i bunnstriden, kun fire poeng over direkte nedrykk. \n",
      "\n",
      "Juventus, som har vunnet ligaen de sju siste sesongene, topper Serie A med full pott etter fire runder. Napoli følger på andreplass med ni poeng etter like mange kamper. \n",
      "\n",
      "En scoring fra tidligere Brann-back Amin Nouri og en misbrukt kjempesjanse fra RBKs Yann-Erik de Lanlay i sluttminuttene - og det så ut som Brann og Rosenborg skulle stå like i poeng før de åtte siste kampene. \n",
      "\n",
      "RANHEIM (VG) (Ranheim-Strømsgodset 1–1) Med ett av de siste sparkene på ballen reddet Tokmac Nguen (24) poeng for Strømsgodset, og snudde glede til fortvilelse blant hjemmelagets spillere. \n",
      "\n"
     ]
    }
   ],
   "source": [
    "next_in_cluster_generator()"
   ]
  },
  {
   "cell_type": "markdown",
   "id": "ad2aa0be-8f20-4146-96f0-10904b396735",
   "metadata": {},
   "source": [
    "### Cluster 10 \n",
    "Keywords:"
   ]
  },
  {
   "cell_type": "code",
   "execution_count": 15,
   "id": "981fd0ab-1182-4daa-a217-84fed734ebf9",
   "metadata": {},
   "outputs": [
    {
     "name": "stdout",
     "output_type": "stream",
     "text": [
      "Cluster 10 - 250 samples \n",
      "____________________________________________________________________________________________________\n",
      "\n",
      "– Det er helt nifst å se dette Strømsgodset-laget. Med alle de gode spillerne vet vi hva de kan gjøre på sitt beste. Se laget, stallen og banken. At ikke de kan skape mål, sjanser og vinne kamper, er helt utrolig, sier Jesper Mathisen\n",
      "                        i FotballXtra. \n",
      "\n",
      "– Vi er ikke tre mål bedre enn Lillestrøm, men tilfeldighetene gjorde det sånn, sier Start-trener Kjetil Rekdal til Eurosport. \n",
      "\n",
      "– Det er menneskelig å være slik. Av og til kan vi ikke kontrollere angsten vår. \n",
      "\n",
      "– Siden mars måned intensiverte vi interessen for Jebali. Så slo vi til. Men folk sa det var «årets bom-kjøp», sier Bjørnebye - ironisk. \n",
      "\n",
      "– Da vi fikk corneren på overtid, så trodde jeg på seier, sier Stig Inge Bjørnebye. Og corneren ekspederte Issam Jebali i mål. \n",
      "\n",
      "– Fra halvspilt sesong og ut, spiller vi dobbelt så mange kamper som Brann. Vi har minimum 15 kamper, kanskje både 16 og 17, mer enn Brann siden juli og ut sesongen. Men vi ser på dette som en fordel, sier Bjørnebye. \n",
      "\n",
      "– Seriemesterskapet skal vi vinne, hører vi Rini Coolen si. \n",
      "\n",
      "– Spillerne er utrolig skuffet. Hva skal jeg kalle det? «Ransskuffet». Ikke over prestasjonen, for dette var opp imot det beste vi kan. Det så ut til å holde til tre poeng. Når vi først har seieren i lomma, to minutter på overtid, så skal vi greie å ri det unna, sier Ranheim-trener Svein Maalen, til VG. \n",
      "\n",
      "– Kampen blir for oppjaga og vi har ballen altfor lite på slutten. Aller mest ligger det i at vi burde scoret 2-0 på en av de mange kontringsmulighetene vi hadde. Vi skal straffe dem mye hardere der, og ikke søle bort sjansene. \n",
      "\n",
      "– Vi spilte en grei bortekamp, og hadde bra struktur defensivt. Vi har lett for å score mål, men slipper inn for mye mål. Jeg er godt fornøyd med ett poeng. \n",
      "\n"
     ]
    }
   ],
   "source": [
    "next_in_cluster_generator()"
   ]
  },
  {
   "cell_type": "code",
   "execution_count": 16,
   "id": "b587f11b-24f1-473f-b6f0-cacb23f8966f",
   "metadata": {},
   "outputs": [
    {
     "name": "stdout",
     "output_type": "stream",
     "text": [
      "Cluster 11 - 677 samples \n",
      "____________________________________________________________________________________________________\n",
      "\n",
      "Drammenserne har ikke vunnet på fem kamper, og nå venter Molde, Sarpsborg 08 og Haugesund de neste tre rundene. \n",
      "\n",
      "– De skal passe seg nå hvis de ikke klarer å heve seg. \n",
      "\n",
      "– Selv om de har Marcus Pedersen med 14 mål allerede, trenger han mer støtte som spiss. De trenger at midtbanespillerne kommer opp og at ikke alt blir liggende på skuldrene til Marcus, sier Steffen Iversen. \n",
      "\n",
      "Bjørn Petter Ingebretsen tok over som hovedtrener for Strømsgodset i sommer etter at Tor Ole Skullerud tok konsekvensen av en rekke dårlige resultater. Etter en brukbar start har imidlertid fremgangen uteblitt. \n",
      "\n",
      "John Arne Riise var ukens gjest i FotballXtra. Han er bekymret for at drammenserne har trent for dårlig. \n",
      "\n",
      "– De gjør for mange personlige feil og blir straffet hver gang. Jeg husker de spilte fantastisk fotball og det kom en bølge med løp. Alt går feil vei nå, og selvfølgelig har fått seg en knekk. Det skal du ikke kimse av, det har ekstremt\n",
      "                        mye å si i fotball. \n",
      "\n",
      "Adeleke Akinyemi ble hentet for om lag ti millioner kroner fra Ventspils i august, men scoringene har latt vente på seg. \n",
      "\n",
      "– Jeg ble overrasket av reaksjonen hans. Vi har sluppet inn et mål, fått et rødt kort og en suspensjon vil bli langvarig. \n",
      "\n",
      "De siste to årene, i Nordsjælland, har nemlig vært tunge. Fellah har knapt spilt kamper. Sist han startet en kamp før Sandefjord-returen, var 27. september 2017. \n",
      "\n",
      "SANDEFJORD (VG) Han har slitt benken og følt seg glemt i hjemlandet. Som Sandefjord-spiller vil Mohamed Fellah (29) bevise for det norske folk at han fortsatt har det i seg. \n",
      "\n"
     ]
    }
   ],
   "source": [
    "next_in_cluster_generator()"
   ]
  },
  {
   "cell_type": "code",
   "execution_count": 17,
   "id": "3807785a-6943-4096-bf00-9cce0ead063e",
   "metadata": {},
   "outputs": [
    {
     "name": "stdout",
     "output_type": "stream",
     "text": [
      "Cluster 12 - 86 samples \n",
      "____________________________________________________________________________________________________\n",
      "\n",
      "Vinner selv på dårlige dager - se video under her:  \n",
      "\n",
      "Se hvordan Start senket LSK her: \n",
      "\n",
      "• Her er søndagens oddstips \n",
      "\n",
      " Her får du tilgang! ​ \n",
      " \n",
      "\n",
      "Les minutt for minutt-referat fra kampen i TV 2s livesenter her. \n",
      "\n",
      "Thomas Lehne Olsen er «offside-kongen». Se alle avgjørelsene her: \n",
      "\n",
      "• Her er fredagens oddstips \n",
      "\n",
      "Se video fra 3–0-seieren under her \n",
      "\n",
      "Se begge intervjuene her og døm selv: \n",
      "\n",
      "Flere «stikk» her - se video: \n",
      "\n"
     ]
    }
   ],
   "source": [
    "next_in_cluster_generator()"
   ]
  },
  {
   "cell_type": "code",
   "execution_count": 18,
   "id": "bb46d946-4b88-4095-aaa7-d2ccce6d30b2",
   "metadata": {},
   "outputs": [
    {
     "name": "stdout",
     "output_type": "stream",
     "text": [
      "Cluster 13 - 230 samples \n",
      "____________________________________________________________________________________________________\n",
      "\n",
      "Ukraineren fikk æren av å sette ballen i det tomme nettet i sin første Premier League-start. \n",
      "\n",
      "På overtid av første omgang fikk blåtrøyene sin redusering. Da hadde Marcos Silva nettopp gjort et offensivt bytte da Morgan Schneiderlin måtte vike vei for lille Bernard som ble hentet gratis i sommer. \n",
      "\n",
      "Andreomgang startet like heseblesende som den første. Etter 60 minutter satt den igjen for bortelaget. Obiang og Arnautovic kombinerte nydelig enda en gang og åpnet opp Everton-forsvaret. \n",
      "\n",
      "Cristiano Ronaldo måtte gå frustrert og målløs av banen i sine tre første kamper for Juventus etter sommerens overgang. \n",
      "\n",
      "Ranheim så ut til å gå mot sin første seier på det nylagte kunstgresset. Men to minutter på overtid ødela en driblekonge fra Kenya moroa. \n",
      "\n",
      "Odd spilte for første gang med 17-åringen Joshua Kitolano fra start. \n",
      "\n",
      "33-åringen brukte 320 minutter på å score sitt første ligamål for Juventus, men i den fjerde ligakampen løsnet det: \n",
      "\n",
      "Lenge måtte de faktisk jage for å komme à jour med baskerne, som tok ledelsen i første omgang.  \n",
      "\n",
      "Han vant den duellen han måtte vinne for å score sitt første mål i kamp fra start: 0–1 på Haugesund stadion, etter ni minutters spill. \n",
      "\n",
      "Det var Kings tredje scoring for sesongen, han står også med en målgivende fra før. Med fem målpoeng på de første fem kampene, har den norske spissen fått en strålende start på Premier League-sesongen.  \n",
      "\n"
     ]
    }
   ],
   "source": [
    "next_in_cluster_generator()"
   ]
  },
  {
   "cell_type": "code",
   "execution_count": 19,
   "id": "6843bb02-16a0-4e47-bac8-cc0e308b471a",
   "metadata": {},
   "outputs": [
    {
     "name": "stdout",
     "output_type": "stream",
     "text": [
      "Cluster 14 - 39 samples \n",
      "____________________________________________________________________________________________________\n",
      "\n",
      "Bulgaria - Norge 1-0 \n",
      "\n",
      "Se \n",
      "Bulgaria-Norge søndag 18.00 på TV 2!\n",
      "\n",
      " \n",
      "\n",
      "​Se Bulgaria-Norge søndag 18.00 på TV 2! \n",
      "\n",
      "Se Bulgaria-Norge på TV 2 og Sumo søndag fra kl. 17.30\n",
      " \n",
      "\n",
      "​Se Bulgaria-Norge søndag 18.00 på TV 2! \n",
      "\n",
      "Se Bulgaria-Norge søndag 18.00 på TV 2! \n",
      "\n",
      "Se Bulgaria-Norge søndag 18.00 på TV 2!\n",
      " \n",
      "\n",
      "Norge-Kypros 2-0 \n",
      "\n",
      "Se Bulgaria-Norge søndag 18.00 på TV 2! \n",
      "\n",
      "Se Bulgaria-Norge søndag 18.00 på TV 2! \n",
      "\n"
     ]
    }
   ],
   "source": [
    "next_in_cluster_generator()"
   ]
  },
  {
   "cell_type": "code",
   "execution_count": 20,
   "id": "60c1282e-6164-4b45-8720-8c6338769388",
   "metadata": {},
   "outputs": [
    {
     "name": "stdout",
     "output_type": "stream",
     "text": [
      "Cluster 15 - 93 samples \n",
      "____________________________________________________________________________________________________\n",
      "\n",
      "I sin første sesong for Haugesund, på utlån fra den danske klubben, har nigerianeren vært den fremste offensive bidragsyteren på den nåværende tredjeplassen i Eliteserien. Seks mål og seks assists gjør ham til en av ligaens fremste målpoeng-plukkere – kun slått av Marcus Pedersen (15) og Erling Braut Håland (13). \n",
      "\n",
      "Molde var det beste laget på Aker stadion i første omgang av den siste play off-kampen for Europaliga-gruppespillet. Tidlig i kampen kunne Erling Braut Haaland sende Molde i ledelsen ta han kom alene med keeper, men skuddet gikk midt på Zenit-keeperen.  \n",
      "\n",
      "MOLDE (VG) (Molde – Zenit 2–1, 3–4 sammenlagt) Molde kjempet og kjempet mot et godt organisert Zenit, men det ble bare nesten for Solskjær og hans menn. \n",
      "\n",
      "Eirik Hestad og Erling Haaland scoret målene da Molde vendte til 2-1-seier på hjemmebane. Det tredje målet som ville gitt ekstraomganger kom aldri. \n",
      "\n",
      "Haaland fullfører nemlig sesongen med Molde, før han offisielt blir RB Salzburg 1. januar 2019. Der blir han trolig værende en stund. Haaland har skrevet under på en femårskontrakt med den østerrikske storklubben. \n",
      "\n",
      "Braut Haaland klar for RB Salzburg: – Vinn-vinn-situasjon for Molde \n",
      "\n",
      "Moldenserne hadde store forhåpninger og forventninger om å sluttføre Haaland-avtalen med østerrikske Red Bull Salzburg i begynnelsen av uken, men da den norske overgangsfristen utløp natt til torsdag var overgangen fortsatt ikke bekreftet, er denne løsningen utelukket. \n",
      "\n",
      "Zenit St. Petersburg-Molde 3-1 \n",
      "\n",
      "Braut Håland imponerte tross Molde-kollaps: – Landslagssjefen må elske det han ser \n",
      "\n",
      "Erling Braut Håland markerte seg mot de meritterte Zenit-forsvarerne, med fart, kraft og teknisk frekke detaljer. \n",
      "\n"
     ]
    }
   ],
   "source": [
    "next_in_cluster_generator()"
   ]
  },
  {
   "cell_type": "code",
   "execution_count": 21,
   "id": "bda25926-48c3-4375-9d40-5f55a54c1a8d",
   "metadata": {},
   "outputs": [
    {
     "name": "stdout",
     "output_type": "stream",
     "text": [
      "Cluster 16 - 173 samples \n",
      "____________________________________________________________________________________________________\n",
      "\n",
      "Se målene i Sportsnyhetene øverst. \n",
      "\n",
      " Se begge målene i Sportsnyhetene øverst. \n",
      "\n",
      " \n",
      "\n",
      " Se kampsammendraget i videovinduet øverst. \n",
      "\n",
      " \n",
      "\n",
      " Se målene i Sportsnyhetene øverst!\n",
      " \n",
      "\n",
      " Se målene i Sportsnyhetene øverst!\n",
      " \n",
      "\n",
      "Se skrekkskaden i Sportsnyhetene øverst. \n",
      "\n",
      " Se Lucas Moura herje med Manchester United i videovinduet øverst.\n",
      "\n",
      " \n",
      "\n",
      "Se reportasje fra Wolverhampton-museet i videovinduet øverst  \n",
      "\n",
      "Se målene i videovinduet øverst. \n",
      "\n",
      " Se hvordan United slo Watford øverst!\n",
      " \n",
      "\n"
     ]
    }
   ],
   "source": [
    "next_in_cluster_generator()"
   ]
  },
  {
   "cell_type": "code",
   "execution_count": 22,
   "id": "bbc0e8ff-1e07-45e0-9d91-cadd0b065557",
   "metadata": {},
   "outputs": [
    {
     "name": "stdout",
     "output_type": "stream",
     "text": [
      "Cluster 17 - 139 samples \n",
      "____________________________________________________________________________________________________\n",
      "\n",
      "(Juventus-Sassuolo 2–1) Som i sin siste sesong for Real Madrid hadde Cristiano Ronaldo 27 forsøk før han endelig scoret for Juventus. \n",
      "\n",
      "* 311 for Real Madrid. \n",
      "\n",
      "Ronaldo gikk fra Real Madrid til Juventus i sommer. Pris: Snaut 950 millioner kroner. Han har skrevet en fireårskontrakt med en forventet årslønn på i underkant av 300 mill. kroner. \n",
      "\n",
      "For da Gareth Bale kom seg til dødlinjen snaue tre minutter senere, og la inn i feltet, var det ingen Athletic-spillere som plukket opp den 175 cm høye midtbanejuvelen. Isco stanget inn 1–1 for Real Madrid.  \n",
      "\n",
      "Real Madrid tapte poeng og terreng til Barcelona \n",
      "\n",
      "(Atheltic Bilbao – Real Madrid 1–1) Etter at Barcelona vant tidligere lørdag måtte Real Madrid svare borte mot Atheltic Bilbao. Det gikk ikke som planlagt.  \n",
      "\n",
      "For selv med Real Madrids «ferske» angrepstrio Gareth Bale, Karim Benzema og Marco Asensio på topp, slet de hvitkledde fra hovedstaden med å sette ballen i mål.  \n",
      "\n",
      "Iker Muniain utnyttet et uorganisert Real Madrid-forsvar og kranglet inn 1–0 til vertene etter 32 minutter etter en skikkelig lagscoring. \n",
      "\n",
      "Fikk du med deg hva som skjedde under kampen mellom Castilla og Atletico Madrid B tidligere denne måneden? \n",
      "\n",
      "Etter 61 minutter tok Real Madrid-trener Julen Lopetegui ut mannen som nylig ble kåret til Årets spiller i Europa, Luka Modric, og satte inn Isco.  \n",
      "\n"
     ]
    }
   ],
   "source": [
    "next_in_cluster_generator()"
   ]
  },
  {
   "cell_type": "code",
   "execution_count": 23,
   "id": "98d22af8-f06c-4e35-92ca-baa059810ca4",
   "metadata": {},
   "outputs": [
    {
     "name": "stdout",
     "output_type": "stream",
     "text": [
      "Cluster 18 - 388 samples \n",
      "____________________________________________________________________________________________________\n",
      "\n",
      "Sarpsborgs poengfangst i Eliteserien har stoppet helt. Espen Ruud scoret begge Odds mål i 2-1-seieren i Østfold søndag. \n",
      "\n",
      "Espen Ruuds frisparkfot hylles etter at han ble matchvinner mot Sarpsborg. \n",
      "\n",
      "Endelig løsnet det for Ronaldo: Scoret to mål i Juventus-seier \n",
      "\n",
      " Se høydepunktene fra kampen mot Start:  \n",
      "\n",
      "Lagets to neste bortekamper er mot gulljagende Brann og Rosenborg. \n",
      "\n",
      "To mål av Espen Ruud - og Sarpsborg gikk på sitt fjerde strake tap \n",
      "\n",
      "Odd lot Sarpsborg trille ball - og scoret selv mål i 1. omgang. \n",
      "\n",
      "Etter 27 forsøk løsnet det: Ronaldo scoret to \n",
      "\n",
      "I fjor scoret Hegerberg 31 mål på 20 ligakamper for Lyon - i tillegg til 15 mål i Champions League som klubben vant. Det gjør at hun er en av tre nominerte til FIFAs kåring av «årets spiller». Vinneren blir offentliggjort 24. september. \n",
      "\n",
      "Lyon tok sin tredje strake seier i den franske toppdivisjonen søndag med 3–0 borte mot Guingamp. Hegerberg spilte i 73 minutter uten scoring. Eugenie Le Sommer satte alle tre målene for Lyon. \n",
      "\n"
     ]
    }
   ],
   "source": [
    "next_in_cluster_generator()"
   ]
  },
  {
   "cell_type": "code",
   "execution_count": 24,
   "id": "41e90f02-f99a-4d8b-a0a6-644583a22977",
   "metadata": {},
   "outputs": [
    {
     "name": "stdout",
     "output_type": "stream",
     "text": [
      "Cluster 19 - 26 samples \n",
      "____________________________________________________________________________________________________\n",
      "\n",
      "Tipster gir deg ferske oddstips hver dag! \n",
      "\n",
      "Tipster gir deg ferske oddstips hver dag! \n",
      "\n",
      "Tipster gir deg ferske oddstips hver dag! \n",
      "\n",
      " Tipster gir deg ferske oddstips hver dag!  \n",
      "\n",
      "Tipster gir deg ferske oddstips hver dag!  \n",
      "\n",
      "Tipster gir deg ferske oddstips hver dag! \n",
      "\n",
      "Tipster gir deg ferske oddstips hver dag! \n",
      "\n",
      "Tipster gir deg ferske oddstips hver dag! \n",
      "\n",
      "Tipster gir deg ferske oddstips hver dag! \n",
      "\n",
      " Tipster gir deg ferske oddstips hver dag!  \n",
      "\n"
     ]
    }
   ],
   "source": [
    "next_in_cluster_generator()"
   ]
  },
  {
   "cell_type": "code",
   "execution_count": null,
   "id": "12132f35-9a49-42f3-9c23-f7b756749173",
   "metadata": {},
   "outputs": [],
   "source": []
  },
  {
   "cell_type": "code",
   "execution_count": null,
   "id": "d42c26f1-d574-489a-8ef8-6e8de5884a5e",
   "metadata": {},
   "outputs": [],
   "source": []
  }
 ],
 "metadata": {
  "kernelspec": {
   "display_name": "Python 3 (ipykernel)",
   "language": "python",
   "name": "python3"
  },
  "language_info": {
   "codemirror_mode": {
    "name": "ipython",
    "version": 3
   },
   "file_extension": ".py",
   "mimetype": "text/x-python",
   "name": "python",
   "nbconvert_exporter": "python",
   "pygments_lexer": "ipython3",
   "version": "3.9.7"
  }
 },
 "nbformat": 4,
 "nbformat_minor": 5
}
