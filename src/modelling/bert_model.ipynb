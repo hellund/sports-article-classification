{
 "cells": [
  {
   "cell_type": "markdown",
   "id": "ff0a6a0e-9636-4a6c-b252-708bc48dedf6",
   "metadata": {},
   "source": [
    "### Imports"
   ]
  },
  {
   "cell_type": "code",
   "execution_count": 1,
   "id": "d3770c3b-95a5-4688-ac11-49efadf7be12",
   "metadata": {},
   "outputs": [],
   "source": [
    "from sklearn.model_selection import train_test_split\n",
    "from transformers import AutoTokenizer\n",
    "from src.data.nordskog_data import get_data\n",
    "from src.data.preprocessing import DataPreprocessor"
   ]
  },
  {
   "cell_type": "markdown",
   "id": "e9f7989f-e5b4-42aa-a8eb-2f1d7e572835",
   "metadata": {},
   "source": [
    "### Loading data"
   ]
  },
  {
   "cell_type": "code",
   "execution_count": 2,
   "id": "4993961e-b9bd-44ec-8512-9fb0fe10ebd3",
   "metadata": {},
   "outputs": [
    {
     "data": {
      "text/html": [
       "<div>\n",
       "<style scoped>\n",
       "    .dataframe tbody tr th:only-of-type {\n",
       "        vertical-align: middle;\n",
       "    }\n",
       "\n",
       "    .dataframe tbody tr th {\n",
       "        vertical-align: top;\n",
       "    }\n",
       "\n",
       "    .dataframe thead th {\n",
       "        text-align: right;\n",
       "    }\n",
       "</style>\n",
       "<table border=\"1\" class=\"dataframe\">\n",
       "  <thead>\n",
       "    <tr style=\"text-align: right;\">\n",
       "      <th></th>\n",
       "      <th>text</th>\n",
       "      <th>label</th>\n",
       "    </tr>\n",
       "  </thead>\n",
       "  <tbody>\n",
       "    <tr>\n",
       "      <th>0</th>\n",
       "      <td>Vålerenga - Rosenborg 2-3</td>\n",
       "      <td>Ignore</td>\n",
       "    </tr>\n",
       "    <tr>\n",
       "      <th>1</th>\n",
       "      <td>Sam Johnson ga vertene ledelsen, men Jonathan ...</td>\n",
       "      <td>Goal/Assist</td>\n",
       "    </tr>\n",
       "    <tr>\n",
       "      <th>2</th>\n",
       "      <td>På et hjørnespark langt på overtid kom avgjøre...</td>\n",
       "      <td>Goal/Assist</td>\n",
       "    </tr>\n",
       "    <tr>\n",
       "      <th>3</th>\n",
       "      <td>Ti minutter før pause scoret Sam Johnson sitt ...</td>\n",
       "      <td>Goal/Assist</td>\n",
       "    </tr>\n",
       "    <tr>\n",
       "      <th>4</th>\n",
       "      <td>Vålerenga holdt 1-0-ledelsen bare frem til sis...</td>\n",
       "      <td>Goal/Assist</td>\n",
       "    </tr>\n",
       "  </tbody>\n",
       "</table>\n",
       "</div>"
      ],
      "text/plain": [
       "                                                text        label\n",
       "0                          Vålerenga - Rosenborg 2-3       Ignore\n",
       "1  Sam Johnson ga vertene ledelsen, men Jonathan ...  Goal/Assist\n",
       "2  På et hjørnespark langt på overtid kom avgjøre...  Goal/Assist\n",
       "3  Ti minutter før pause scoret Sam Johnson sitt ...  Goal/Assist\n",
       "4  Vålerenga holdt 1-0-ledelsen bare frem til sis...  Goal/Assist"
      ]
     },
     "execution_count": 2,
     "metadata": {},
     "output_type": "execute_result"
    }
   ],
   "source": [
    "train, test = get_data()\n",
    "train.head()"
   ]
  },
  {
   "cell_type": "code",
   "execution_count": 3,
   "id": "61e3f217-8575-45ed-bed0-5bfacfe04c74",
   "metadata": {},
   "outputs": [
    {
     "data": {
      "text/plain": [
       "Goal/Assist       1117\n",
       "quote              975\n",
       "Transfer           887\n",
       "irrelevant         812\n",
       "Ignore             663\n",
       "Player details     340\n",
       "Club details       315\n",
       "sjanse             300\n",
       "Injuries            59\n",
       "Rodt/gult kort      50\n",
       "Club drama           5\n",
       "Personal drama       3\n",
       "Name: label, dtype: int64"
      ]
     },
     "execution_count": 3,
     "metadata": {},
     "output_type": "execute_result"
    }
   ],
   "source": [
    "train['label'].value_counts()"
   ]
  },
  {
   "cell_type": "markdown",
   "id": "aa1b145a-96c7-43fa-ae19-afdeb985b7d0",
   "metadata": {},
   "source": [
    "### Preprocessing"
   ]
  },
  {
   "cell_type": "code",
   "execution_count": 4,
   "id": "3ee96a46-a18c-4b5c-9baf-18d3fa264870",
   "metadata": {},
   "outputs": [
    {
     "data": {
      "text/html": [
       "<div>\n",
       "<style scoped>\n",
       "    .dataframe tbody tr th:only-of-type {\n",
       "        vertical-align: middle;\n",
       "    }\n",
       "\n",
       "    .dataframe tbody tr th {\n",
       "        vertical-align: top;\n",
       "    }\n",
       "\n",
       "    .dataframe thead th {\n",
       "        text-align: right;\n",
       "    }\n",
       "</style>\n",
       "<table border=\"1\" class=\"dataframe\">\n",
       "  <thead>\n",
       "    <tr style=\"text-align: right;\">\n",
       "      <th></th>\n",
       "      <th>text</th>\n",
       "      <th>label</th>\n",
       "    </tr>\n",
       "  </thead>\n",
       "  <tbody>\n",
       "    <tr>\n",
       "      <th>0</th>\n",
       "      <td>Vålerenga - Rosenborg 2-3</td>\n",
       "      <td>Ignore</td>\n",
       "    </tr>\n",
       "    <tr>\n",
       "      <th>1</th>\n",
       "      <td>Sam Johnson ga vertene ledelsen, men Jonathan ...</td>\n",
       "      <td>Goal/Assist</td>\n",
       "    </tr>\n",
       "    <tr>\n",
       "      <th>2</th>\n",
       "      <td>På et hjørnespark langt på overtid kom avgjøre...</td>\n",
       "      <td>Goal/Assist</td>\n",
       "    </tr>\n",
       "    <tr>\n",
       "      <th>3</th>\n",
       "      <td>Ti minutter før pause scoret Sam Johnson sitt ...</td>\n",
       "      <td>Goal/Assist</td>\n",
       "    </tr>\n",
       "    <tr>\n",
       "      <th>4</th>\n",
       "      <td>Vålerenga holdt 1-0-ledelsen bare frem til sis...</td>\n",
       "      <td>Goal/Assist</td>\n",
       "    </tr>\n",
       "  </tbody>\n",
       "</table>\n",
       "</div>"
      ],
      "text/plain": [
       "                                                text        label\n",
       "0                          Vålerenga - Rosenborg 2-3       Ignore\n",
       "1  Sam Johnson ga vertene ledelsen, men Jonathan ...  Goal/Assist\n",
       "2  På et hjørnespark langt på overtid kom avgjøre...  Goal/Assist\n",
       "3  Ti minutter før pause scoret Sam Johnson sitt ...  Goal/Assist\n",
       "4  Vålerenga holdt 1-0-ledelsen bare frem til sis...  Goal/Assist"
      ]
     },
     "execution_count": 4,
     "metadata": {},
     "output_type": "execute_result"
    }
   ],
   "source": [
    "preprocessor_train = DataPreprocessor(train)\n",
    "preprocessor_train.map_nordskog_data(numeric=False)\n",
    "preprocessor_train.limit_number_of_targets_to_5_and_merge(numeric=False)\n",
    "preprocessor_train.remove_extra_spaces_from_text()\n",
    "preprocessor_train.remove_paragraphs_over_65_words()\n",
    "preprocessed_training_data = preprocessor_train.data.copy()\n",
    "preprocessed_training_data.head()"
   ]
  },
  {
   "cell_type": "code",
   "execution_count": 5,
   "id": "f1f911c7-0375-4838-a6ed-f254f658f61e",
   "metadata": {},
   "outputs": [
    {
     "data": {
      "text/plain": [
       "Goal/Assist    1402\n",
       "Ignore         1316\n",
       "Irrelevant      923\n",
       "Quote           900\n",
       "Transfer        871\n",
       "Name: label, dtype: int64"
      ]
     },
     "execution_count": 5,
     "metadata": {},
     "output_type": "execute_result"
    }
   ],
   "source": [
    "preprocessed_training_data['label'].value_counts()"
   ]
  },
  {
   "cell_type": "code",
   "execution_count": 6,
   "id": "aad7ce94-0f2c-4c17-8fce-cfd3a0ccbcdb",
   "metadata": {},
   "outputs": [],
   "source": [
    "train_texts, validation_texts, train_labels, validation_labels = train_test_split(preprocessed_training_data['text'],\n",
    "                                                                                  preprocessed_training_data['label'],\n",
    "                                                                                  test_size=0.2)"
   ]
  },
  {
   "cell_type": "markdown",
   "id": "8bc65fc2-cf8f-4dbf-ac63-80e9a9def87d",
   "metadata": {},
   "source": [
    "### Modelling"
   ]
  },
  {
   "cell_type": "code",
   "execution_count": 7,
   "id": "7c3dc967-d5ac-4b0e-a337-0803632393d7",
   "metadata": {},
   "outputs": [],
   "source": [
    "from transformers import AutoTokenizer\n",
    "\n",
    "tokenizer = AutoTokenizer.from_pretrained(\"NbAiLab/nb-bert-large\", model_max_lenght=512)"
   ]
  },
  {
   "cell_type": "code",
   "execution_count": 8,
   "id": "48dfb52a-58ab-4ae7-893c-6c4ea623947f",
   "metadata": {},
   "outputs": [],
   "source": [
    "train_encodings = tokenizer(train_texts.values.tolist(), truncation=True, padding=True, max_length=512)\n",
    "val_encodings = tokenizer(validation_texts.values.tolist(), truncation=True, padding=True, max_length=512)"
   ]
  },
  {
   "cell_type": "code",
   "execution_count": 9,
   "id": "60999143-679e-4e14-a56b-6f67ad04b14f",
   "metadata": {},
   "outputs": [
    {
     "data": {
      "text/plain": [
       "<TensorSliceDataset element_spec=({'input_ids': TensorSpec(shape=(95,), dtype=tf.int32, name=None), 'token_type_ids': TensorSpec(shape=(95,), dtype=tf.int32, name=None), 'attention_mask': TensorSpec(shape=(95,), dtype=tf.int32, name=None)}, TensorSpec(shape=(), dtype=tf.string, name=None))>"
      ]
     },
     "execution_count": 9,
     "metadata": {},
     "output_type": "execute_result"
    }
   ],
   "source": [
    "import tensorflow as tf\n",
    "\n",
    "train_dataset = tf.data.Dataset.from_tensor_slices((\n",
    "    dict(train_encodings),\n",
    "    train_labels\n",
    "))\n",
    "val_dataset = tf.data.Dataset.from_tensor_slices((\n",
    "    dict(val_encodings),\n",
    "    validation_labels\n",
    "))\n",
    "train_dataset"
   ]
  },
  {
   "cell_type": "code",
   "execution_count": 10,
   "id": "831abe6e-9c7f-4568-8363-ddab2e2a50af",
   "metadata": {},
   "outputs": [
    {
     "name": "stderr",
     "output_type": "stream",
     "text": [
      "All model checkpoint layers were used when initializing TFBertForSequenceClassification.\n",
      "\n",
      "Some layers of TFBertForSequenceClassification were not initialized from the model checkpoint at NbAiLab/nb-bert-large and are newly initialized: ['classifier']\n",
      "You should probably TRAIN this model on a down-stream task to be able to use it for predictions and inference.\n"
     ]
    },
    {
     "name": "stdout",
     "output_type": "stream",
     "text": [
      "Epoch 1/3\n"
     ]
    },
    {
     "ename": "RuntimeError",
     "evalue": "pybind11::error_already_set: MISMATCH of original and normalized active exception types: ORIGINAL UnimplementedError REPLACED BY KeyboardInterrupt: <EMPTY MESSAGE>\n\nAt:\n  C:\\Users\\Eirik\\anaconda3\\lib\\site-packages\\tensorflow\\python\\framework\\errors_impl.py(445): __init__\n  C:\\Users\\Eirik\\anaconda3\\lib\\site-packages\\tensorflow\\python\\eager\\execute.py(52): quick_execute\n  C:\\Users\\Eirik\\anaconda3\\lib\\site-packages\\tensorflow\\python\\eager\\polymorphic_function\\monomorphic_function.py(378): call\n  C:\\Users\\Eirik\\anaconda3\\lib\\site-packages\\tensorflow\\python\\eager\\polymorphic_function\\monomorphic_function.py(1745): _call_flat\n  C:\\Users\\Eirik\\anaconda3\\lib\\site-packages\\tensorflow\\python\\eager\\polymorphic_function\\tracing_compiler.py(134): __call__\n  C:\\Users\\Eirik\\anaconda3\\lib\\site-packages\\tensorflow\\python\\eager\\polymorphic_function\\polymorphic_function.py(945): _call\n  C:\\Users\\Eirik\\anaconda3\\lib\\site-packages\\tensorflow\\python\\eager\\polymorphic_function\\polymorphic_function.py(880): __call__\n  C:\\Users\\Eirik\\anaconda3\\lib\\site-packages\\tensorflow\\python\\util\\traceback_utils.py(150): error_handler\n  C:\\Users\\Eirik\\anaconda3\\lib\\site-packages\\keras\\engine\\training.py(1650): fit\n  C:\\Users\\Eirik\\anaconda3\\lib\\site-packages\\keras\\utils\\traceback_utils.py(65): error_handler\n  C:\\Users\\Eirik\\AppData\\Local\\Temp/ipykernel_24820/3038220380.py(8): <module>\n  C:\\Users\\Eirik\\anaconda3\\lib\\site-packages\\IPython\\core\\interactiveshell.py(3444): run_code\n  C:\\Users\\Eirik\\anaconda3\\lib\\site-packages\\IPython\\core\\interactiveshell.py(3364): run_ast_nodes\n  C:\\Users\\Eirik\\anaconda3\\lib\\site-packages\\IPython\\core\\interactiveshell.py(3172): run_cell_async\n  C:\\Users\\Eirik\\anaconda3\\lib\\site-packages\\IPython\\core\\async_helpers.py(68): _pseudo_sync_runner\n  C:\\Users\\Eirik\\anaconda3\\lib\\site-packages\\IPython\\core\\interactiveshell.py(2947): _run_cell\n  C:\\Users\\Eirik\\anaconda3\\lib\\site-packages\\IPython\\core\\interactiveshell.py(2901): run_cell\n  C:\\Users\\Eirik\\anaconda3\\lib\\site-packages\\ipykernel\\zmqshell.py(533): run_cell\n  C:\\Users\\Eirik\\anaconda3\\lib\\site-packages\\ipykernel\\ipkernel.py(353): do_execute\n  C:\\Users\\Eirik\\anaconda3\\lib\\site-packages\\ipykernel\\kernelbase.py(648): execute_request\n  C:\\Users\\Eirik\\anaconda3\\lib\\site-packages\\ipykernel\\kernelbase.py(353): dispatch_shell\n  C:\\Users\\Eirik\\anaconda3\\lib\\site-packages\\ipykernel\\kernelbase.py(446): process_one\n  C:\\Users\\Eirik\\anaconda3\\lib\\site-packages\\ipykernel\\kernelbase.py(457): dispatch_queue\n  C:\\Users\\Eirik\\anaconda3\\lib\\asyncio\\events.py(80): _run\n  C:\\Users\\Eirik\\anaconda3\\lib\\asyncio\\base_events.py(1890): _run_once\n  C:\\Users\\Eirik\\anaconda3\\lib\\asyncio\\base_events.py(596): run_forever\n  C:\\Users\\Eirik\\anaconda3\\lib\\site-packages\\tornado\\platform\\asyncio.py(199): start\n  C:\\Users\\Eirik\\anaconda3\\lib\\site-packages\\ipykernel\\kernelapp.py(677): start\n  C:\\Users\\Eirik\\anaconda3\\lib\\site-packages\\traitlets\\config\\application.py(846): launch_instance\n  C:\\Users\\Eirik\\anaconda3\\lib\\site-packages\\ipykernel_launcher.py(16): <module>\n  C:\\Users\\Eirik\\anaconda3\\lib\\runpy.py(87): _run_code\n  C:\\Users\\Eirik\\anaconda3\\lib\\runpy.py(197): _run_module_as_main\n",
     "output_type": "error",
     "traceback": [
      "\u001b[1;31m---------------------------------------------------------------------------\u001b[0m",
      "\u001b[1;31mRuntimeError\u001b[0m                              Traceback (most recent call last)",
      "\u001b[1;32m~\\AppData\\Local\\Temp/ipykernel_24820/3038220380.py\u001b[0m in \u001b[0;36m<module>\u001b[1;34m\u001b[0m\n\u001b[0;32m      6\u001b[0m model.compile(optimizer=optimizer, loss=tf.keras.losses.SparseCategoricalCrossentropy(from_logits=True),\n\u001b[0;32m      7\u001b[0m               metrics=[tf.keras.metrics.SparseCategoricalAccuracy('accuracy')]) # can also use any keras loss fn\n\u001b[1;32m----> 8\u001b[1;33m \u001b[0mhistory\u001b[0m \u001b[1;33m=\u001b[0m \u001b[0mmodel\u001b[0m\u001b[1;33m.\u001b[0m\u001b[0mfit\u001b[0m\u001b[1;33m(\u001b[0m\u001b[0mtrain_dataset\u001b[0m\u001b[1;33m.\u001b[0m\u001b[0mshuffle\u001b[0m\u001b[1;33m(\u001b[0m\u001b[1;36m1000\u001b[0m\u001b[1;33m)\u001b[0m\u001b[1;33m.\u001b[0m\u001b[0mbatch\u001b[0m\u001b[1;33m(\u001b[0m\u001b[1;36m16\u001b[0m\u001b[1;33m)\u001b[0m\u001b[1;33m,\u001b[0m \u001b[0mepochs\u001b[0m\u001b[1;33m=\u001b[0m\u001b[1;36m3\u001b[0m\u001b[1;33m,\u001b[0m \u001b[0mbatch_size\u001b[0m\u001b[1;33m=\u001b[0m\u001b[1;36m16\u001b[0m\u001b[1;33m,\u001b[0m \u001b[0mvalidation_data\u001b[0m\u001b[1;33m=\u001b[0m\u001b[0mval_dataset\u001b[0m\u001b[1;33m.\u001b[0m\u001b[0mbatch\u001b[0m\u001b[1;33m(\u001b[0m\u001b[1;36m16\u001b[0m\u001b[1;33m)\u001b[0m\u001b[1;33m)\u001b[0m\u001b[1;33m\u001b[0m\u001b[1;33m\u001b[0m\u001b[0m\n\u001b[0m",
      "\u001b[1;32m~\\anaconda3\\lib\\site-packages\\keras\\utils\\traceback_utils.py\u001b[0m in \u001b[0;36merror_handler\u001b[1;34m(*args, **kwargs)\u001b[0m\n\u001b[0;32m     68\u001b[0m             \u001b[1;31m# To get the full stack trace, call:\u001b[0m\u001b[1;33m\u001b[0m\u001b[1;33m\u001b[0m\u001b[0m\n\u001b[0;32m     69\u001b[0m             \u001b[1;31m# `tf.debugging.disable_traceback_filtering()`\u001b[0m\u001b[1;33m\u001b[0m\u001b[1;33m\u001b[0m\u001b[0m\n\u001b[1;32m---> 70\u001b[1;33m             \u001b[1;32mraise\u001b[0m \u001b[0me\u001b[0m\u001b[1;33m.\u001b[0m\u001b[0mwith_traceback\u001b[0m\u001b[1;33m(\u001b[0m\u001b[0mfiltered_tb\u001b[0m\u001b[1;33m)\u001b[0m \u001b[1;32mfrom\u001b[0m \u001b[1;32mNone\u001b[0m\u001b[1;33m\u001b[0m\u001b[1;33m\u001b[0m\u001b[0m\n\u001b[0m\u001b[0;32m     71\u001b[0m         \u001b[1;32mfinally\u001b[0m\u001b[1;33m:\u001b[0m\u001b[1;33m\u001b[0m\u001b[1;33m\u001b[0m\u001b[0m\n\u001b[0;32m     72\u001b[0m             \u001b[1;32mdel\u001b[0m \u001b[0mfiltered_tb\u001b[0m\u001b[1;33m\u001b[0m\u001b[1;33m\u001b[0m\u001b[0m\n",
      "\u001b[1;32m~\\anaconda3\\lib\\site-packages\\tensorflow\\python\\eager\\execute.py\u001b[0m in \u001b[0;36mquick_execute\u001b[1;34m(op_name, num_outputs, inputs, attrs, ctx, name)\u001b[0m\n\u001b[0;32m     50\u001b[0m   \u001b[1;32mtry\u001b[0m\u001b[1;33m:\u001b[0m\u001b[1;33m\u001b[0m\u001b[1;33m\u001b[0m\u001b[0m\n\u001b[0;32m     51\u001b[0m     \u001b[0mctx\u001b[0m\u001b[1;33m.\u001b[0m\u001b[0mensure_initialized\u001b[0m\u001b[1;33m(\u001b[0m\u001b[1;33m)\u001b[0m\u001b[1;33m\u001b[0m\u001b[1;33m\u001b[0m\u001b[0m\n\u001b[1;32m---> 52\u001b[1;33m     tensors = pywrap_tfe.TFE_Py_Execute(ctx._handle, device_name, op_name,\n\u001b[0m\u001b[0;32m     53\u001b[0m                                         inputs, attrs, num_outputs)\n\u001b[0;32m     54\u001b[0m   \u001b[1;32mexcept\u001b[0m \u001b[0mcore\u001b[0m\u001b[1;33m.\u001b[0m\u001b[0m_NotOkStatusException\u001b[0m \u001b[1;32mas\u001b[0m \u001b[0me\u001b[0m\u001b[1;33m:\u001b[0m\u001b[1;33m\u001b[0m\u001b[1;33m\u001b[0m\u001b[0m\n",
      "\u001b[1;31mRuntimeError\u001b[0m: pybind11::error_already_set: MISMATCH of original and normalized active exception types: ORIGINAL UnimplementedError REPLACED BY KeyboardInterrupt: <EMPTY MESSAGE>\n\nAt:\n  C:\\Users\\Eirik\\anaconda3\\lib\\site-packages\\tensorflow\\python\\framework\\errors_impl.py(445): __init__\n  C:\\Users\\Eirik\\anaconda3\\lib\\site-packages\\tensorflow\\python\\eager\\execute.py(52): quick_execute\n  C:\\Users\\Eirik\\anaconda3\\lib\\site-packages\\tensorflow\\python\\eager\\polymorphic_function\\monomorphic_function.py(378): call\n  C:\\Users\\Eirik\\anaconda3\\lib\\site-packages\\tensorflow\\python\\eager\\polymorphic_function\\monomorphic_function.py(1745): _call_flat\n  C:\\Users\\Eirik\\anaconda3\\lib\\site-packages\\tensorflow\\python\\eager\\polymorphic_function\\tracing_compiler.py(134): __call__\n  C:\\Users\\Eirik\\anaconda3\\lib\\site-packages\\tensorflow\\python\\eager\\polymorphic_function\\polymorphic_function.py(945): _call\n  C:\\Users\\Eirik\\anaconda3\\lib\\site-packages\\tensorflow\\python\\eager\\polymorphic_function\\polymorphic_function.py(880): __call__\n  C:\\Users\\Eirik\\anaconda3\\lib\\site-packages\\tensorflow\\python\\util\\traceback_utils.py(150): error_handler\n  C:\\Users\\Eirik\\anaconda3\\lib\\site-packages\\keras\\engine\\training.py(1650): fit\n  C:\\Users\\Eirik\\anaconda3\\lib\\site-packages\\keras\\utils\\traceback_utils.py(65): error_handler\n  C:\\Users\\Eirik\\AppData\\Local\\Temp/ipykernel_24820/3038220380.py(8): <module>\n  C:\\Users\\Eirik\\anaconda3\\lib\\site-packages\\IPython\\core\\interactiveshell.py(3444): run_code\n  C:\\Users\\Eirik\\anaconda3\\lib\\site-packages\\IPython\\core\\interactiveshell.py(3364): run_ast_nodes\n  C:\\Users\\Eirik\\anaconda3\\lib\\site-packages\\IPython\\core\\interactiveshell.py(3172): run_cell_async\n  C:\\Users\\Eirik\\anaconda3\\lib\\site-packages\\IPython\\core\\async_helpers.py(68): _pseudo_sync_runner\n  C:\\Users\\Eirik\\anaconda3\\lib\\site-packages\\IPython\\core\\interactiveshell.py(2947): _run_cell\n  C:\\Users\\Eirik\\anaconda3\\lib\\site-packages\\IPython\\core\\interactiveshell.py(2901): run_cell\n  C:\\Users\\Eirik\\anaconda3\\lib\\site-packages\\ipykernel\\zmqshell.py(533): run_cell\n  C:\\Users\\Eirik\\anaconda3\\lib\\site-packages\\ipykernel\\ipkernel.py(353): do_execute\n  C:\\Users\\Eirik\\anaconda3\\lib\\site-packages\\ipykernel\\kernelbase.py(648): execute_request\n  C:\\Users\\Eirik\\anaconda3\\lib\\site-packages\\ipykernel\\kernelbase.py(353): dispatch_shell\n  C:\\Users\\Eirik\\anaconda3\\lib\\site-packages\\ipykernel\\kernelbase.py(446): process_one\n  C:\\Users\\Eirik\\anaconda3\\lib\\site-packages\\ipykernel\\kernelbase.py(457): dispatch_queue\n  C:\\Users\\Eirik\\anaconda3\\lib\\asyncio\\events.py(80): _run\n  C:\\Users\\Eirik\\anaconda3\\lib\\asyncio\\base_events.py(1890): _run_once\n  C:\\Users\\Eirik\\anaconda3\\lib\\asyncio\\base_events.py(596): run_forever\n  C:\\Users\\Eirik\\anaconda3\\lib\\site-packages\\tornado\\platform\\asyncio.py(199): start\n  C:\\Users\\Eirik\\anaconda3\\lib\\site-packages\\ipykernel\\kernelapp.py(677): start\n  C:\\Users\\Eirik\\anaconda3\\lib\\site-packages\\traitlets\\config\\application.py(846): launch_instance\n  C:\\Users\\Eirik\\anaconda3\\lib\\site-packages\\ipykernel_launcher.py(16): <module>\n  C:\\Users\\Eirik\\anaconda3\\lib\\runpy.py(87): _run_code\n  C:\\Users\\Eirik\\anaconda3\\lib\\runpy.py(197): _run_module_as_main\n"
     ]
    }
   ],
   "source": [
    "from transformers import TFBertForSequenceClassification\n",
    "\n",
    "model = TFBertForSequenceClassification.from_pretrained('NbAiLab/nb-bert-large', num_labels = 5)\n",
    "\n",
    "optimizer = tf.keras.optimizers.Adam(learning_rate=5e-5, epsilon=1e-08, clipnorm=1.0)\n",
    "model.compile(optimizer=optimizer, loss=tf.keras.losses.SparseCategoricalCrossentropy(from_logits=True),\n",
    "              metrics=[tf.keras.metrics.SparseCategoricalAccuracy('accuracy')]) # can also use any keras loss fn\n",
    "history = model.fit(train_dataset.shuffle(1000).batch(16), epochs=3, batch_size=16, validation_data=val_dataset.batch(16))"
   ]
  },
  {
   "cell_type": "code",
   "execution_count": null,
   "id": "d87883dc-5949-4b62-8dce-938d1898ef31",
   "metadata": {},
   "outputs": [],
   "source": [
    "import matplotlib.pyplot as plt\n",
    "# summarize history for accuracy\n",
    "plt.plot(history.history['accuracy'])\n",
    "plt.plot(history.history['val_accuracy'])\n",
    "plt.title('model accuracy')\n",
    "plt.ylabel('accuracy')\n",
    "plt.xlabel('epoch')\n",
    "plt.legend(['train', 'test'], loc='upper left')\n",
    "plt.show()\n",
    "# summarize history for loss\n",
    "plt.plot(history.history['loss'])\n",
    "plt.plot(history.history['val_loss'])\n",
    "plt.title('model loss')\n",
    "plt.ylabel('loss')\n",
    "plt.xlabel('epoch')\n",
    "plt.legend(['train', 'test'], loc='upper left')\n",
    "plt.show()"
   ]
  },
  {
   "cell_type": "code",
   "execution_count": null,
   "id": "b94bc7ea-e121-430c-a129-4badbb23fb6c",
   "metadata": {},
   "outputs": [],
   "source": []
  }
 ],
 "metadata": {
  "kernelspec": {
   "display_name": "Python 3 (ipykernel)",
   "language": "python",
   "name": "python3"
  },
  "language_info": {
   "codemirror_mode": {
    "name": "ipython",
    "version": 3
   },
   "file_extension": ".py",
   "mimetype": "text/x-python",
   "name": "python",
   "nbconvert_exporter": "python",
   "pygments_lexer": "ipython3",
   "version": "3.9.7"
  }
 },
 "nbformat": 4,
 "nbformat_minor": 5
}
