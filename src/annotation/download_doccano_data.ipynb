{
 "cells": [
  {
   "cell_type": "code",
   "execution_count": 4,
   "id": "f574acc0-c4f1-4392-b6b0-b7fc9fc3ba6c",
   "metadata": {},
   "outputs": [],
   "source": [
    "from src.annotation.doccano import get_latest_annotated_data\n",
    "from src.utils import get_project_root"
   ]
  },
  {
   "cell_type": "code",
   "execution_count": 2,
   "id": "4f49fa48-249f-4f32-b92d-c03211fe8515",
   "metadata": {},
   "outputs": [],
   "source": [
    "data = get_latest_annotated_data().loc[:, ['text', 'label']].dropna().reset_index()"
   ]
  },
  {
   "cell_type": "code",
   "execution_count": 3,
   "id": "74fb9e8c-4fc7-457e-8a9f-9849f65759f8",
   "metadata": {},
   "outputs": [
    {
     "data": {
      "text/html": [
       "<div>\n",
       "<style scoped>\n",
       "    .dataframe tbody tr th:only-of-type {\n",
       "        vertical-align: middle;\n",
       "    }\n",
       "\n",
       "    .dataframe tbody tr th {\n",
       "        vertical-align: top;\n",
       "    }\n",
       "\n",
       "    .dataframe thead th {\n",
       "        text-align: right;\n",
       "    }\n",
       "</style>\n",
       "<table border=\"1\" class=\"dataframe\">\n",
       "  <thead>\n",
       "    <tr style=\"text-align: right;\">\n",
       "      <th></th>\n",
       "      <th>index</th>\n",
       "      <th>text</th>\n",
       "      <th>label</th>\n",
       "    </tr>\n",
       "  </thead>\n",
       "  <tbody>\n",
       "    <tr>\n",
       "      <th>0</th>\n",
       "      <td>0</td>\n",
       "      <td>Premier League valgte å offentliggjøre tre fly...</td>\n",
       "      <td>[Link]</td>\n",
       "    </tr>\n",
       "    <tr>\n",
       "      <th>1</th>\n",
       "      <td>1</td>\n",
       "      <td>Romelu Lukaku har uttalt at han er misfornøyd ...</td>\n",
       "      <td>[Opinion, Statement]</td>\n",
       "    </tr>\n",
       "    <tr>\n",
       "      <th>2</th>\n",
       "      <td>2</td>\n",
       "      <td>– La oss være ærlige. Jeg liker det ikke, for ...</td>\n",
       "      <td>[Quote]</td>\n",
       "    </tr>\n",
       "    <tr>\n",
       "      <th>3</th>\n",
       "      <td>3</td>\n",
       "      <td>Manchester United har fått mye kritikk etter å...</td>\n",
       "      <td>[Commentary]</td>\n",
       "    </tr>\n",
       "    <tr>\n",
       "      <th>4</th>\n",
       "      <td>4</td>\n",
       "      <td>Her er torsdagens oddstips!</td>\n",
       "      <td>[Garbage, Link, Odds]</td>\n",
       "    </tr>\n",
       "    <tr>\n",
       "      <th>...</th>\n",
       "      <td>...</td>\n",
       "      <td>...</td>\n",
       "      <td>...</td>\n",
       "    </tr>\n",
       "    <tr>\n",
       "      <th>2004</th>\n",
       "      <td>2004</td>\n",
       "      <td>Marko Gruljic fra Red Star Belgrade 6. januar ...</td>\n",
       "      <td>[Garbage]</td>\n",
       "    </tr>\n",
       "    <tr>\n",
       "      <th>2005</th>\n",
       "      <td>2005</td>\n",
       "      <td>TV 2s fotballkommentator Øyvind Alsaker mener ...</td>\n",
       "      <td>[Opinion, Storytelling]</td>\n",
       "    </tr>\n",
       "    <tr>\n",
       "      <th>2006</th>\n",
       "      <td>2006</td>\n",
       "      <td>De fire beste i Premier League får spille i Ch...</td>\n",
       "      <td>[Storytelling, Table]</td>\n",
       "    </tr>\n",
       "    <tr>\n",
       "      <th>2007</th>\n",
       "      <td>2007</td>\n",
       "      <td>– Virgil van Dijk, Alisson Becker og Mohamed S...</td>\n",
       "      <td>[Opinion, Quote, Transfer]</td>\n",
       "    </tr>\n",
       "    <tr>\n",
       "      <th>2008</th>\n",
       "      <td>2008</td>\n",
       "      <td>1. januar åpner overgangsvinduet, og storklubb...</td>\n",
       "      <td>[Storytelling]</td>\n",
       "    </tr>\n",
       "  </tbody>\n",
       "</table>\n",
       "<p>2009 rows × 3 columns</p>\n",
       "</div>"
      ],
      "text/plain": [
       "      index                                               text  \\\n",
       "0         0  Premier League valgte å offentliggjøre tre fly...   \n",
       "1         1  Romelu Lukaku har uttalt at han er misfornøyd ...   \n",
       "2         2  – La oss være ærlige. Jeg liker det ikke, for ...   \n",
       "3         3  Manchester United har fått mye kritikk etter å...   \n",
       "4         4                        Her er torsdagens oddstips!   \n",
       "...     ...                                                ...   \n",
       "2004   2004  Marko Gruljic fra Red Star Belgrade 6. januar ...   \n",
       "2005   2005  TV 2s fotballkommentator Øyvind Alsaker mener ...   \n",
       "2006   2006  De fire beste i Premier League får spille i Ch...   \n",
       "2007   2007  – Virgil van Dijk, Alisson Becker og Mohamed S...   \n",
       "2008   2008  1. januar åpner overgangsvinduet, og storklubb...   \n",
       "\n",
       "                           label  \n",
       "0                         [Link]  \n",
       "1           [Opinion, Statement]  \n",
       "2                        [Quote]  \n",
       "3                   [Commentary]  \n",
       "4          [Garbage, Link, Odds]  \n",
       "...                          ...  \n",
       "2004                   [Garbage]  \n",
       "2005     [Opinion, Storytelling]  \n",
       "2006       [Storytelling, Table]  \n",
       "2007  [Opinion, Quote, Transfer]  \n",
       "2008              [Storytelling]  \n",
       "\n",
       "[2009 rows x 3 columns]"
      ]
     },
     "execution_count": 3,
     "metadata": {},
     "output_type": "execute_result"
    }
   ],
   "source": [
    "data"
   ]
  },
  {
   "cell_type": "code",
   "execution_count": 6,
   "id": "787a82e7",
   "metadata": {},
   "outputs": [
    {
     "data": {
      "text/plain": [
       "'/home/eirik/Code/sports-article-classification'"
      ]
     },
     "execution_count": 6,
     "metadata": {},
     "output_type": "execute_result"
    }
   ],
   "source": [
    "root = get_project_root()\n",
    "root"
   ]
  },
  {
   "cell_type": "code",
   "execution_count": 8,
   "id": "a2d52161",
   "metadata": {},
   "outputs": [],
   "source": [
    "data.to_pickle(root + '/src/data/training_data/multi_label_data.pkl')"
   ]
  },
  {
   "cell_type": "code",
   "execution_count": null,
   "id": "860f785e",
   "metadata": {},
   "outputs": [],
   "source": []
  }
 ],
 "metadata": {
  "kernelspec": {
   "display_name": "Python 3 (ipykernel)",
   "language": "python",
   "name": "python3"
  },
  "language_info": {
   "codemirror_mode": {
    "name": "ipython",
    "version": 3
   },
   "file_extension": ".py",
   "mimetype": "text/x-python",
   "name": "python",
   "nbconvert_exporter": "python",
   "pygments_lexer": "ipython3",
   "version": "3.10.9"
  }
 },
 "nbformat": 4,
 "nbformat_minor": 5
}
